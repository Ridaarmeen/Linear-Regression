{
 "cells": [
  {
   "cell_type": "code",
   "execution_count": 1,
   "id": "ed47ce61-6b82-4217-9517-b7201f0650c8",
   "metadata": {},
   "outputs": [],
   "source": [
    "import pandas as pd\n",
    "from sklearn.linear_model import LinearRegression\n",
    "from sklearn.model_selection import train_test_split\n",
    "from sklearn.metrics import mean_squared_error, r2_score"
   ]
  },
  {
   "cell_type": "code",
   "execution_count": 5,
   "id": "93291544-de0c-4b7e-b786-925b04e76532",
   "metadata": {},
   "outputs": [],
   "source": [
    "df = pd.read_csv(\"Housing.csv\")\n",
    "df.dropna(inplace=True)"
   ]
  },
  {
   "cell_type": "code",
   "execution_count": 27,
   "id": "ecc00d62-8eea-4478-9957-faeed9a1eecf",
   "metadata": {},
   "outputs": [],
   "source": [
    "#to convert categorical data to numeric\n",
    "df = pd.get_dummies(df, drop_first=True)"
   ]
  },
  {
   "cell_type": "code",
   "execution_count": 29,
   "id": "fed7238b-7729-4da1-af3b-3d02a85e8c3c",
   "metadata": {},
   "outputs": [
    {
     "name": "stdout",
     "output_type": "stream",
     "text": [
      "Index(['price', 'area', 'bedrooms', 'bathrooms', 'stories', 'parking',\n",
      "       'mainroad_yes', 'guestroom_yes', 'basement_yes', 'hotwaterheating_yes',\n",
      "       'airconditioning_yes', 'prefarea_yes',\n",
      "       'furnishingstatus_semi-furnished', 'furnishingstatus_unfurnished'],\n",
      "      dtype='object')\n",
      "      price  area  bedrooms  bathrooms  stories  parking  mainroad_yes  \\\n",
      "0  13300000  7420         4          2        3        2          True   \n",
      "1  12250000  8960         4          4        4        3          True   \n",
      "2  12250000  9960         3          2        2        2          True   \n",
      "3  12215000  7500         4          2        2        3          True   \n",
      "4  11410000  7420         4          1        2        2          True   \n",
      "\n",
      "   guestroom_yes  basement_yes  hotwaterheating_yes  airconditioning_yes  \\\n",
      "0          False         False                False                 True   \n",
      "1          False         False                False                 True   \n",
      "2          False          True                False                False   \n",
      "3          False          True                False                 True   \n",
      "4           True          True                False                 True   \n",
      "\n",
      "   prefarea_yes  furnishingstatus_semi-furnished  furnishingstatus_unfurnished  \n",
      "0          True                            False                         False  \n",
      "1         False                            False                         False  \n",
      "2          True                             True                         False  \n",
      "3          True                            False                         False  \n",
      "4         False                            False                         False  \n"
     ]
    }
   ],
   "source": [
    "print(df.columns)\n",
    "print(df.head())"
   ]
  },
  {
   "cell_type": "code",
   "execution_count": 31,
   "id": "d51573bd-1d8c-4af9-b3f5-46db03de888c",
   "metadata": {},
   "outputs": [
    {
     "name": "stdout",
     "output_type": "stream",
     "text": [
      "price                              1.000000\n",
      "area                               0.535997\n",
      "bathrooms                          0.517545\n",
      "airconditioning_yes                0.452954\n",
      "stories                            0.420712\n",
      "parking                            0.384394\n",
      "bedrooms                           0.366494\n",
      "prefarea_yes                       0.329777\n",
      "mainroad_yes                       0.296898\n",
      "guestroom_yes                      0.255517\n",
      "basement_yes                       0.187057\n",
      "hotwaterheating_yes                0.093073\n",
      "furnishingstatus_semi-furnished    0.063656\n",
      "furnishingstatus_unfurnished      -0.280587\n",
      "Name: price, dtype: float64\n"
     ]
    }
   ],
   "source": [
    "# Check correlation matrix\n",
    "print(df.corr(numeric_only=True)['price'].sort_values(ascending=False))"
   ]
  },
  {
   "cell_type": "code",
   "execution_count": 33,
   "id": "cfc3e532-7810-4978-8d89-8700b7a33985",
   "metadata": {},
   "outputs": [],
   "source": [
    "#Using one feature (e.g., area) to predict the target"
   ]
  },
  {
   "cell_type": "code",
   "execution_count": 35,
   "id": "ff3f7dea-0207-49a6-8ef5-99fa7a5bef13",
   "metadata": {},
   "outputs": [],
   "source": [
    "X = df[['area']]  \n",
    "y = df['price']    "
   ]
  },
  {
   "cell_type": "code",
   "execution_count": 37,
   "id": "d279e5d2-8122-4848-bb15-7d929ebe9ccb",
   "metadata": {},
   "outputs": [],
   "source": [
    "X_train, X_test, y_train, y_test = train_test_split(X, y, test_size=0.2)\n",
    "\n",
    "model = LinearRegression()\n",
    "model.fit(X_train, y_train)\n",
    "\n",
    "y_pred = model.predict(X_test)"
   ]
  },
  {
   "cell_type": "code",
   "execution_count": 39,
   "id": "8afdf066-7345-4dc5-9c3e-06569ba2a408",
   "metadata": {},
   "outputs": [
    {
     "name": "stdout",
     "output_type": "stream",
     "text": [
      "MSE: 2513702146563.3677\n",
      "R² Score: 0.2091789534743358\n"
     ]
    }
   ],
   "source": [
    "# Metrics\n",
    "print(\"MSE:\", mean_squared_error(y_test, y_pred))\n",
    "print(\"R² Score:\", r2_score(y_test, y_pred))"
   ]
  },
  {
   "cell_type": "code",
   "execution_count": 41,
   "id": "50898191-4960-4d46-bbb2-bde7ca9fbf06",
   "metadata": {},
   "outputs": [
    {
     "data": {
      "image/png": "[encoded data removed]",
      "text/plain": [
       "<Figure size 640x480 with 1 Axes>"
      ]
     },
     "metadata": {},
     "output_type": "display_data"
    }
   ],
   "source": [
    "# Plot\n",
    "import matplotlib.pyplot as plt\n",
    "plt.scatter(X_test, y_test, color='blue')\n",
    "plt.plot(X_test, y_pred, color='red')\n",
    "plt.xlabel('area')\n",
    "plt.ylabel('price')\n",
    "plt.title('Simple Linear Regression')\n",
    "plt.show()"
   ]
  },
  {
   "cell_type": "code",
   "execution_count": 43,
   "id": "bcd75cbc-3084-47da-9857-8207feebf19d",
   "metadata": {},
   "outputs": [],
   "source": [
    "#Using multiple features to predict the target"
   ]
  },
  {
   "cell_type": "code",
   "execution_count": 45,
   "id": "2ac3942e-13b5-4083-99f1-5af44134f3bb",
   "metadata": {},
   "outputs": [],
   "source": [
    "X = df.drop('price', axis=1)  # all features ecxept our target\n",
    "y = df['price']"
   ]
  },
  {
   "cell_type": "code",
   "execution_count": 47,
   "id": "101dd5e2-c26b-4234-ab42-007de458cbca",
   "metadata": {},
   "outputs": [],
   "source": [
    "X_train, X_test, y_train, y_test = train_test_split(X, y, test_size=0.2)\n",
    "\n",
    "model = LinearRegression()\n",
    "model.fit(X_train, y_train)\n",
    "\n",
    "y_pred = model.predict(X_test)"
   ]
  },
  {
   "cell_type": "code",
   "execution_count": 49,
   "id": "81b9fc15-23b9-4951-b5af-e7a5243574b8",
   "metadata": {},
   "outputs": [
    {
     "name": "stdout",
     "output_type": "stream",
     "text": [
      "MSE: 1036232037823.5747\n",
      "R² Score: 0.63392979286059\n",
      "Coefficients: [ 2.26278951e+02  1.69163144e+05  9.84662917e+05  4.67648580e+05\n",
      "  3.03623723e+05  4.11284365e+05  2.22313162e+05  4.12333052e+05\n",
      "  9.00547506e+05  9.26298011e+05  6.08431286e+05 -6.99762607e+04\n",
      " -4.13688109e+05]\n"
     ]
    }
   ],
   "source": [
    "# Metrics\n",
    "print(\"MSE:\", mean_squared_error(y_test, y_pred))\n",
    "print(\"R² Score:\", r2_score(y_test, y_pred))\n",
    "print(\"Coefficients:\", model.coef_)"
   ]
  }
 ],
 "metadata": {
  "kernelspec": {
   "display_name": "Python [conda env:base] *",
   "language": "python",
   "name": "conda-base-py"
  },
  "language_info": {
   "codemirror_mode": {
    "name": "ipython",
    "version": 3
   },
   "file_extension": ".py",
   "mimetype": "text/x-python",
   "name": "python",
   "nbconvert_exporter": "python",
   "pygments_lexer": "ipython3",
   "version": "3.12.7"
  }
 },
 "nbformat": 4,
 "nbformat_minor": 5
}
